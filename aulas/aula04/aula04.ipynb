{
 "cells": [
  {
   "cell_type": "markdown",
   "metadata": {},
   "source": [
    "# Atividade 3 - Funções Map e Lambda"
   ]
  },
  {
   "cell_type": "markdown",
   "metadata": {},
   "source": [
    ">  Crie um código chamado baskhara, ele deverá ter uma rotina que ao ser criada retornará x' e x\". Os valores de entrada deverão ser os de delta (a,b,c) e o x. Se o usuario escolher 1 deverá retornar x' e se for 2 deverá retornar x\". Insira todas as possibilidades e as regras de baskhara."
   ]
  },
  {
   "cell_type": "code",
   "execution_count": 30,
   "metadata": {},
   "outputs": [],
   "source": [
    "import math\n",
    "\n",
    "def baskhara(a, b, c,x1,x2):\n",
    "    \n",
    "    delta = b**2 - 4*a*c\n",
    "    \n",
    "    if(delta<0):\n",
    "        print(\"A equação não possui raízes reais\")\n",
    "        \n",
    "    else:\n",
    "        if(x1>0):\n",
    "            x1 = (-b + math.sqrt(delta))/(2*a)\n",
    "            print(\"O x'= \", x1)\n",
    "        else:\n",
    "            if(x2>0): \n",
    "                x2 = (-b - math.sqrt(delta))/(2*a)\n",
    "                print(\"O x''= \", x2)\n",
    "            else:\n",
    "                x1 = (-b + math.sqrt(delta))/(2*a)\n",
    "                x2 = (-b - math.sqrt(delta))/(2*a)\n",
    "            print(\"X'=\",x1,\"e X'': \",x2)"
   ]
  },
  {
   "cell_type": "code",
   "execution_count": 33,
   "metadata": {},
   "outputs": [
    {
     "name": "stdout",
     "output_type": "stream",
     "text": [
      "X'= 3.0 e X''  -2.0\n"
     ]
    }
   ],
   "source": [
    "baskhara(1, -1,-6,0 ,0)"
   ]
  },
  {
   "cell_type": "markdown",
   "metadata": {},
   "source": [
    "> Crie um programa que calcule 5 valores dentro de uma lista chamada celsius. Crie uma nova lista vazia chamada fahrenheit e armazene a conversão dos valores de celsius utilizando lambda com map. No final exiba o valor da lista fahrenheit. "
   ]
  },
  {
   "cell_type": "code",
   "execution_count": null,
   "metadata": {},
   "outputs": [],
   "source": [
    "celsius = [5.0, 6.0, 7.0, 8.0, 9.0, 1.0]\n",
    "fahrenheit = []\n",
    "\n",
    "fahrenheit = list(map(lambda x: round((9/5)*x + 32, 2), celsius))\n",
    "print(fahrenheit)\n"
   ]
  }
 ],
 "metadata": {
  "kernelspec": {
   "display_name": "Python 3",
   "language": "python",
   "name": "python3"
  },
  "language_info": {
   "codemirror_mode": {
    "name": "ipython",
    "version": 3
   },
   "file_extension": ".py",
   "mimetype": "text/x-python",
   "name": "python",
   "nbconvert_exporter": "python",
   "pygments_lexer": "ipython3",
   "version": "3.9.13"
  },
  "polyglot_notebook": {
   "kernelInfo": {
    "defaultKernelName": "csharp",
    "items": [
     {
      "aliases": [],
      "name": "csharp"
     }
    ]
   }
  }
 },
 "nbformat": 4,
 "nbformat_minor": 2
}
