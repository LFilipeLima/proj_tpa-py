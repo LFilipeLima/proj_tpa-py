{
 "cells": [
  {
   "cell_type": "markdown",
   "metadata": {},
   "source": [
    "# Aula 06 - Tuplas e dicionários"
   ]
  },
  {
   "cell_type": "markdown",
   "metadata": {},
   "source": [
    "## Introdução a Tuplas e dicionários"
   ]
  },
  {
   "cell_type": "code",
   "execution_count": 91,
   "metadata": {},
   "outputs": [
    {
     "data": {
      "text/plain": [
       "[2, 5, 9]"
      ]
     },
     "execution_count": 91,
     "metadata": {},
     "output_type": "execute_result"
    }
   ],
   "source": [
    "lista = [2,5,9]\n",
    "lista[1]"
   ]
  },
  {
   "cell_type": "markdown",
   "metadata": {},
   "source": [
    "## Introdução a Tuplas"
   ]
  },
  {
   "cell_type": "code",
   "execution_count": 37,
   "metadata": {},
   "outputs": [
    {
     "data": {
      "text/plain": [
       "8"
      ]
     },
     "execution_count": 37,
     "metadata": {},
     "output_type": "execute_result"
    }
   ],
   "source": [
    "tupla = (6,8,9)\n",
    "tupla[1]"
   ]
  },
  {
   "cell_type": "code",
   "execution_count": 92,
   "metadata": {},
   "outputs": [
    {
     "name": "stdout",
     "output_type": "stream",
     "text": [
      "[2, 5, 9, 7]\n"
     ]
    }
   ],
   "source": [
    "lista.append(7)\n",
    "print(lista)"
   ]
  },
  {
   "cell_type": "code",
   "execution_count": 102,
   "metadata": {},
   "outputs": [
    {
     "name": "stdout",
     "output_type": "stream",
     "text": [
      "(1, 5, 7)\n"
     ]
    }
   ],
   "source": [
    "tupla = (1,5,7)\n",
    "print(tupla)"
   ]
  },
  {
   "cell_type": "markdown",
   "metadata": {},
   "source": [
    "## Introdução a Dicionários"
   ]
  },
  {
   "cell_type": "code",
   "execution_count": 133,
   "metadata": {},
   "outputs": [],
   "source": [
    "dicionario = {\n",
    "    'Curso' : 'Desenvolvimento de Sistema',\n",
    "    'Ano': 2024,\n",
    "    'Modulo' : 'Técnicas de Programação e Algoritmos',\n",
    "    'Professor' : 'Gustavo' \n",
    "}"
   ]
  },
  {
   "cell_type": "code",
   "execution_count": 134,
   "metadata": {},
   "outputs": [
    {
     "name": "stdout",
     "output_type": "stream",
     "text": [
      "Desenvolvimento de Sistema\n",
      "2024\n",
      "Técnicas de Programação e Algoritmos\n",
      "Gustavo\n"
     ]
    }
   ],
   "source": [
    "print(dicionario['Curso'])\n",
    "print(dicionario['Ano'])\n",
    "print(dicionario['Modulo'])\n",
    "print(dicionario['Professor'])"
   ]
  },
  {
   "cell_type": "code",
   "execution_count": 135,
   "metadata": {},
   "outputs": [
    {
     "name": "stdout",
     "output_type": "stream",
     "text": [
      "9.5\n"
     ]
    }
   ],
   "source": [
    "dicionario['nota'] = 9.5\n",
    "print(dicionario['nota'])"
   ]
  },
  {
   "cell_type": "code",
   "execution_count": 143,
   "metadata": {},
   "outputs": [
    {
     "name": "stdout",
     "output_type": "stream",
     "text": [
      "Curso\n",
      "Ano\n",
      "Modulo\n",
      "Professor\n",
      "nota\n"
     ]
    }
   ],
   "source": [
    "for x in dicionario.keys():\n",
    "    print(x)"
   ]
  },
  {
   "cell_type": "code",
   "execution_count": 147,
   "metadata": {},
   "outputs": [
    {
     "name": "stdout",
     "output_type": "stream",
     "text": [
      "dict_keys(['Curso', 'Ano', 'Modulo', 'Professor', 'nota'])\n",
      "dict_values(['Desenvolvimento de Sistema', 2024, 'Técnicas de Programação e Algoritmos', 'Gustavo', 9.5])\n"
     ]
    }
   ],
   "source": [
    "print(dicionario.keys())\n",
    "print(dicionario.values())"
   ]
  },
  {
   "cell_type": "code",
   "execution_count": 148,
   "metadata": {},
   "outputs": [
    {
     "name": "stdout",
     "output_type": "stream",
     "text": [
      "\n"
     ]
    }
   ],
   "source": [
    "dicionario.clear()\n",
    "print()"
   ]
  },
  {
   "cell_type": "markdown",
   "metadata": {},
   "source": [
    "## Exercício 1"
   ]
  },
  {
   "cell_type": "markdown",
   "metadata": {},
   "source": [
    "> Crie 3 dicionários: Matrícula, Aluno e Disciplina. \n",
    "    > * A Matrícula terá código da matrícula , data_inscrição e curso; \n",
    "    > * O aluno terá registro e nome; \n",
    "    > * A disciplina téra  registro e professor;     \n",
    "Ao final  adicione os três dicionários a uma tupla chamada escola"
   ]
  },
  {
   "cell_type": "code",
   "execution_count": 187,
   "metadata": {},
   "outputs": [
    {
     "name": "stdout",
     "output_type": "stream",
     "text": [
      "{'Código': '240076', 'Inscrição': '21/01/2024', 'Curso': 'Desenvolvimento de Sistemas'}\n",
      "{'Registro': 'Estudante', 'Nome': 'Luis'}\n",
      "{'Registro': 'TPA', 'Professor': 'Gustavo'}\n"
     ]
    }
   ],
   "source": [
    "matricula = {\n",
    "    'Código' : '240076',\n",
    "    'Inscrição' : '21/01/2024',\n",
    "    'Curso' : 'Desenvolvimento de Sistemas'\n",
    "}\n",
    "\n",
    "aluno = {\n",
    "    'Registro' : 'Estudante',\n",
    "    'Nome' : 'Luis',\n",
    "}\n",
    "\n",
    "disciplina = {\n",
    "    'Registro' : 'TPA',\n",
    "    'Professor' : 'Gustavo'\n",
    "}\n",
    "\n",
    "escola  = (matricula,aluno ,disciplina)\n",
    "for x in escola:\n",
    "    print(x)"
   ]
  },
  {
   "cell_type": "markdown",
   "metadata": {},
   "source": [
    "## Exercício 2 \n",
    "> Crie três dicionários para as seguintes tabelas: vendedor, produto e venda. O vendedor terá registro, nome e admissão; produto terá o ID, nome e fabricante; A venda terá reg_vendedor, id_produto e valor. Após a criação dos dicionários, adicionem a um tupla chamada casas_baiano"
   ]
  },
  {
   "cell_type": "code",
   "execution_count": 188,
   "metadata": {},
   "outputs": [
    {
     "name": "stdout",
     "output_type": "stream",
     "text": [
      "{'Registro': '12234', 'Nome': 'Rogério', 'Admissão': '30/02/2024'}\n",
      "{'ID': '43221', 'Nome': 'Geladeira Electrolux', 'Fabricante': 'Electrolux'}\n",
      "{'reg_vendedor': '12234', 'id_produto': '43221', 'Valor': 'R$3771,21'}\n"
     ]
    }
   ],
   "source": [
    "vendedor = {\n",
    "    'Registro' : '12234',\n",
    "    'Nome' : 'Rogério',\n",
    "    'Admissão' : '30/02/2024'\n",
    "}\n",
    "\n",
    "produto = {\n",
    "    'ID' : '43221',\n",
    "    'Nome' : 'Geladeira Electrolux',\n",
    "    'Fabricante' : \"Electrolux\"\n",
    "}\n",
    "\n",
    "venda = {\n",
    "    'reg_vendedor' : (vendedor['Registro']),\n",
    "    'id_produto' : (produto['ID']),\n",
    "    'Valor' : 'R$3771,21'\n",
    "}\n",
    "\n",
    "casas_baiano = (vendedor,produto,venda)\n",
    "for x in casas_baiano:\n",
    "    print(x)"
   ]
  }
 ],
 "metadata": {
  "kernelspec": {
   "display_name": "Python 3",
   "language": "python",
   "name": "python3"
  },
  "language_info": {
   "codemirror_mode": {
    "name": "ipython",
    "version": 3
   },
   "file_extension": ".py",
   "mimetype": "text/x-python",
   "name": "python",
   "nbconvert_exporter": "python",
   "pygments_lexer": "ipython3",
   "version": "3.12.2"
  }
 },
 "nbformat": 4,
 "nbformat_minor": 2
}
